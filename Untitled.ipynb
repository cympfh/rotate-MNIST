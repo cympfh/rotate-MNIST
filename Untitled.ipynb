{
 "cells": [
  {
   "cell_type": "code",
   "execution_count": 1,
   "metadata": {},
   "outputs": [],
   "source": [
    "%load_ext autoreload\n",
    "%autoreload 2"
   ]
  },
  {
   "cell_type": "code",
   "execution_count": 8,
   "metadata": {},
   "outputs": [],
   "source": [
    "import dataset\n",
    "import transforms"
   ]
  },
  {
   "cell_type": "code",
   "execution_count": 68,
   "metadata": {},
   "outputs": [
    {
     "name": "stdout",
     "output_type": "stream",
     "text": [
      "(<PIL.Image.Image image mode=L size=28x28 at 0x7FDC67A66630>, (tensor(4), -15.562661444179518))\n"
     ]
    },
    {
     "data": {
      "image/png": "[encoded data removed]",
      "text/plain": [
       "<PIL.Image.Image image mode=L size=28x28 at 0x7FDC67A66630>"
      ]
     },
     "execution_count": 68,
     "metadata": {},
     "output_type": "execute_result"
    }
   ],
   "source": [
    "import torchvision\n",
    "transform = torchvision.transforms.Compose([\n",
    "        transforms.RandomRotation(50),\n",
    "        transforms.Identity()\n",
    "    ])\n",
    "set_train = dataset.MNIST(root='./data', train=True, download=True, transform=transform)\n",
    "sample = set_train[60]\n",
    "print(sample)\n",
    "sample[0]"
   ]
  },
  {
   "cell_type": "code",
   "execution_count": 3,
   "metadata": {},
   "outputs": [
    {
     "name": "stdout",
     "output_type": "stream",
     "text": [
      "import torch\r\n",
      "import torchvision\r\n",
      "import click\r\n",
      "\r\n",
      "import dataset\r\n",
      "import transforms\r\n",
      "\r\n",
      "\r\n",
      "@click.command()\r\n",
      "@click.option('--batch-size', type=int, default=30)\r\n",
      "@click.option('--learn-angle', is_flag=True)\r\n",
      "def main(batch_size, learn_angle):\r\n",
      "\r\n",
      "    transform = torchvision.transforms.Compose([\r\n",
      "        transforms.RandomRotation(90),\r\n",
      "        transforms.Identity() if learn_angle else transforms.Free(),\r\n",
      "        transforms.ToTensor()\r\n",
      "    ])\r\n",
      "\r\n",
      "    set_train = dataset.MNIST(root='./data', train=True, download=True, transform=transform)\r\n",
      "    set_test = dataset.MNIST(root='./data', train=False, download=True, transform=transform)\r\n",
      "\r\n",
      "    loader_train = torch.utils.data.DataLoader(set_train, batch_size=batch_size, shuffle=True, num_workers=2)\r\n",
      "    loader_test = torch.utils.data.DataLoader(set_test, batch_size=batch_size, shuffle=False, num_workers=2)\r\n",
      "\r\n",
      "\r\n",
      "if __name__ == '__main__':\r\n",
      "    main()\r\n"
     ]
    }
   ],
   "source": [
    "!cat main.py\n"
   ]
  }
 ],
 "metadata": {
  "kernelspec": {
   "display_name": "Python 3",
   "language": "python",
   "name": "python3"
  },
  "language_info": {
   "codemirror_mode": {
    "name": "ipython",
    "version": 3
   },
   "file_extension": ".py",
   "mimetype": "text/x-python",
   "name": "python",
   "nbconvert_exporter": "python",
   "pygments_lexer": "ipython3",
   "version": "3.6.4"
  }
 },
 "nbformat": 4,
 "nbformat_minor": 2
}
